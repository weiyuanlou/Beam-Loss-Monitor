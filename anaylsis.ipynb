{
 "cells": [
  {
   "cell_type": "code",
   "execution_count": 1,
   "id": "ed6cd6d6-8fef-45b3-b441-3efc0bded09d",
   "metadata": {},
   "outputs": [],
   "source": [
    "from pytao import Tao\n",
    "import os\n",
    "import pandas as pd"
   ]
  },
  {
   "cell_type": "code",
   "execution_count": 2,
   "id": "ab20b217-fa25-42ed-8761-ce64c88fb038",
   "metadata": {},
   "outputs": [],
   "source": [
    "# Basic model with options\n",
    "MODEL = 'cu_hxr' \n",
    "\n",
    "OPTIONS = f'-noplot'\n",
    "INIT = f'-init $LCLS_LATTICE/bmad/models/{MODEL}/tao.init {OPTIONS}'\n",
    "\n",
    "# Make sure this exists\n",
    "assert 'LCLS_LATTICE' in os.environ"
   ]
  },
  {
   "cell_type": "code",
   "execution_count": 3,
   "id": "1c368dc2-40d8-4f17-9e00-72b504fe09f8",
   "metadata": {},
   "outputs": [],
   "source": [
    "tao = Tao(INIT)"
   ]
  },
  {
   "cell_type": "code",
   "execution_count": 5,
   "id": "6efb50ea-934c-4ea4-a879-20f1bc53758d",
   "metadata": {},
   "outputs": [],
   "source": [
    "t1 = pd.read_csv(\"magnet_polynomial_report1.csv\")"
   ]
  },
  {
   "cell_type": "code",
   "execution_count": 6,
   "id": "38ba6a65-7eed-4c0b-b0ef-4a03a6ac46b1",
   "metadata": {},
   "outputs": [
    {
     "data": {
      "text/html": [
       "<div>\n",
       "<style scoped>\n",
       "    .dataframe tbody tr th:only-of-type {\n",
       "        vertical-align: middle;\n",
       "    }\n",
       "\n",
       "    .dataframe tbody tr th {\n",
       "        vertical-align: top;\n",
       "    }\n",
       "\n",
       "    .dataframe thead th {\n",
       "        text-align: right;\n",
       "    }\n",
       "</style>\n",
       "<table border=\"1\" class=\"dataframe\">\n",
       "  <thead>\n",
       "    <tr style=\"text-align: right;\">\n",
       "      <th></th>\n",
       "      <th>Device</th>\n",
       "      <th>Element</th>\n",
       "      <th>Linac Z (m)*</th>\n",
       "      <th>Control System Name*</th>\n",
       "      <th>PS String</th>\n",
       "      <th>PS Config</th>\n",
       "      <th>Imin Val</th>\n",
       "      <th>Imin Uom</th>\n",
       "      <th>Imax Val</th>\n",
       "      <th>Imax Uom</th>\n",
       "      <th>Bmin Val</th>\n",
       "      <th>Bmin Uom</th>\n",
       "      <th>Bmax Val</th>\n",
       "      <th>Bmax Uom</th>\n",
       "    </tr>\n",
       "  </thead>\n",
       "  <tbody>\n",
       "    <tr>\n",
       "      <th>0</th>\n",
       "      <td>BEND</td>\n",
       "      <td>BCXDLU3</td>\n",
       "      <td>665.818300</td>\n",
       "      <td>BEND:DOG:107</td>\n",
       "      <td>BCXDLU2</td>\n",
       "      <td>String</td>\n",
       "      <td>0.0</td>\n",
       "      <td>A</td>\n",
       "      <td>250.0</td>\n",
       "      <td>A</td>\n",
       "      <td>0.0141</td>\n",
       "      <td>kG-m</td>\n",
       "      <td>4.5017</td>\n",
       "      <td>kG-m</td>\n",
       "    </tr>\n",
       "    <tr>\n",
       "      <th>1</th>\n",
       "      <td>BEND</td>\n",
       "      <td>BCXDLD2</td>\n",
       "      <td>746.268275</td>\n",
       "      <td>BEND:DOG:242</td>\n",
       "      <td>BCXDLD2</td>\n",
       "      <td>String Main</td>\n",
       "      <td>0.0</td>\n",
       "      <td>A</td>\n",
       "      <td>250.0</td>\n",
       "      <td>A</td>\n",
       "      <td>0.0134</td>\n",
       "      <td>kG-m</td>\n",
       "      <td>4.5227</td>\n",
       "      <td>kG-m</td>\n",
       "    </tr>\n",
       "    <tr>\n",
       "      <th>2</th>\n",
       "      <td>BEND</td>\n",
       "      <td>BCXDLD1</td>\n",
       "      <td>745.718275</td>\n",
       "      <td>BEND:DOG:241</td>\n",
       "      <td>BCXDLD2</td>\n",
       "      <td>String</td>\n",
       "      <td>0.0</td>\n",
       "      <td>A</td>\n",
       "      <td>250.0</td>\n",
       "      <td>A</td>\n",
       "      <td>0.0132</td>\n",
       "      <td>kG-m</td>\n",
       "      <td>4.5155</td>\n",
       "      <td>kG-m</td>\n",
       "    </tr>\n",
       "    <tr>\n",
       "      <th>3</th>\n",
       "      <td>BEND</td>\n",
       "      <td>BCX362</td>\n",
       "      <td>3363.707649</td>\n",
       "      <td>BEND:LTUH:506</td>\n",
       "      <td>BCX362</td>\n",
       "      <td>String Main</td>\n",
       "      <td>0.0</td>\n",
       "      <td>A</td>\n",
       "      <td>250.0</td>\n",
       "      <td>A</td>\n",
       "      <td>0.0127</td>\n",
       "      <td>kG-m</td>\n",
       "      <td>4.5398</td>\n",
       "      <td>kG-m</td>\n",
       "    </tr>\n",
       "    <tr>\n",
       "      <th>4</th>\n",
       "      <td>BEND</td>\n",
       "      <td>BCX322</td>\n",
       "      <td>3293.237543</td>\n",
       "      <td>BEND:LTUH:301</td>\n",
       "      <td>BCX322</td>\n",
       "      <td>String Main</td>\n",
       "      <td>0.0</td>\n",
       "      <td>A</td>\n",
       "      <td>250.0</td>\n",
       "      <td>A</td>\n",
       "      <td>0.0132</td>\n",
       "      <td>kG-m</td>\n",
       "      <td>4.5095</td>\n",
       "      <td>kG-m</td>\n",
       "    </tr>\n",
       "    <tr>\n",
       "      <th>...</th>\n",
       "      <td>...</td>\n",
       "      <td>...</td>\n",
       "      <td>...</td>\n",
       "      <td>...</td>\n",
       "      <td>...</td>\n",
       "      <td>...</td>\n",
       "      <td>...</td>\n",
       "      <td>...</td>\n",
       "      <td>...</td>\n",
       "      <td>...</td>\n",
       "      <td>...</td>\n",
       "      <td>...</td>\n",
       "      <td>...</td>\n",
       "      <td>...</td>\n",
       "    </tr>\n",
       "    <tr>\n",
       "      <th>1353</th>\n",
       "      <td>KICK</td>\n",
       "      <td>BKRAPM3</td>\n",
       "      <td>3121.236589</td>\n",
       "      <td>KICK:BSYH:491</td>\n",
       "      <td>NaN</td>\n",
       "      <td>Individual</td>\n",
       "      <td>0.0</td>\n",
       "      <td>A</td>\n",
       "      <td>1000.0</td>\n",
       "      <td>A</td>\n",
       "      <td>0.0000</td>\n",
       "      <td>kG-m</td>\n",
       "      <td>11.2600</td>\n",
       "      <td>kG-m</td>\n",
       "    </tr>\n",
       "    <tr>\n",
       "      <th>1354</th>\n",
       "      <td>YCOR</td>\n",
       "      <td>YCSP2D</td>\n",
       "      <td>2963.647003</td>\n",
       "      <td>YCOR:SPD:703</td>\n",
       "      <td>NaN</td>\n",
       "      <td>Individual</td>\n",
       "      <td>-6.0</td>\n",
       "      <td>A</td>\n",
       "      <td>6.0</td>\n",
       "      <td>A</td>\n",
       "      <td>-0.1091</td>\n",
       "      <td>kG-m</td>\n",
       "      <td>0.1091</td>\n",
       "      <td>kG-m</td>\n",
       "    </tr>\n",
       "    <tr>\n",
       "      <th>1355</th>\n",
       "      <td>YCOR</td>\n",
       "      <td>YCSP2S</td>\n",
       "      <td>2927.766918</td>\n",
       "      <td>YCOR:SPS:587</td>\n",
       "      <td>NaN</td>\n",
       "      <td>Individual</td>\n",
       "      <td>-2.0</td>\n",
       "      <td>A</td>\n",
       "      <td>2.0</td>\n",
       "      <td>A</td>\n",
       "      <td>-0.0210</td>\n",
       "      <td>kG-m</td>\n",
       "      <td>0.0210</td>\n",
       "      <td>kG-m</td>\n",
       "    </tr>\n",
       "    <tr>\n",
       "      <th>1356</th>\n",
       "      <td>XCOR</td>\n",
       "      <td>XCSP9S</td>\n",
       "      <td>3004.554785</td>\n",
       "      <td>XCOR:SPS:836</td>\n",
       "      <td>NaN</td>\n",
       "      <td>Individual</td>\n",
       "      <td>-2.0</td>\n",
       "      <td>A</td>\n",
       "      <td>2.0</td>\n",
       "      <td>A</td>\n",
       "      <td>-0.0210</td>\n",
       "      <td>kG-m</td>\n",
       "      <td>0.0210</td>\n",
       "      <td>kG-m</td>\n",
       "    </tr>\n",
       "    <tr>\n",
       "      <th>1357</th>\n",
       "      <td>XCOR</td>\n",
       "      <td>XCPEPX3</td>\n",
       "      <td>3714.477409</td>\n",
       "      <td>XCOR:UNDS:5022</td>\n",
       "      <td>XCPEPX1</td>\n",
       "      <td>String</td>\n",
       "      <td>-6.0</td>\n",
       "      <td>A</td>\n",
       "      <td>6.0</td>\n",
       "      <td>A</td>\n",
       "      <td>-0.1038</td>\n",
       "      <td>kG-m</td>\n",
       "      <td>0.1042</td>\n",
       "      <td>kG-m</td>\n",
       "    </tr>\n",
       "  </tbody>\n",
       "</table>\n",
       "<p>1358 rows × 14 columns</p>\n",
       "</div>"
      ],
      "text/plain": [
       "     Device  Element  Linac Z (m)* Control System Name* PS String  \\\n",
       "0      BEND  BCXDLU3    665.818300         BEND:DOG:107   BCXDLU2   \n",
       "1      BEND  BCXDLD2    746.268275         BEND:DOG:242   BCXDLD2   \n",
       "2      BEND  BCXDLD1    745.718275         BEND:DOG:241   BCXDLD2   \n",
       "3      BEND   BCX362   3363.707649        BEND:LTUH:506    BCX362   \n",
       "4      BEND   BCX322   3293.237543        BEND:LTUH:301    BCX322   \n",
       "...     ...      ...           ...                  ...       ...   \n",
       "1353   KICK  BKRAPM3   3121.236589        KICK:BSYH:491       NaN   \n",
       "1354   YCOR   YCSP2D   2963.647003         YCOR:SPD:703       NaN   \n",
       "1355   YCOR   YCSP2S   2927.766918         YCOR:SPS:587       NaN   \n",
       "1356   XCOR   XCSP9S   3004.554785         XCOR:SPS:836       NaN   \n",
       "1357   XCOR  XCPEPX3   3714.477409       XCOR:UNDS:5022   XCPEPX1   \n",
       "\n",
       "        PS Config  Imin Val Imin Uom  Imax Val Imax Uom  Bmin Val Bmin Uom  \\\n",
       "0          String       0.0        A     250.0        A    0.0141     kG-m   \n",
       "1     String Main       0.0        A     250.0        A    0.0134     kG-m   \n",
       "2          String       0.0        A     250.0        A    0.0132     kG-m   \n",
       "3     String Main       0.0        A     250.0        A    0.0127     kG-m   \n",
       "4     String Main       0.0        A     250.0        A    0.0132     kG-m   \n",
       "...           ...       ...      ...       ...      ...       ...      ...   \n",
       "1353   Individual       0.0        A    1000.0        A    0.0000     kG-m   \n",
       "1354   Individual      -6.0        A       6.0        A   -0.1091     kG-m   \n",
       "1355   Individual      -2.0        A       2.0        A   -0.0210     kG-m   \n",
       "1356   Individual      -2.0        A       2.0        A   -0.0210     kG-m   \n",
       "1357       String      -6.0        A       6.0        A   -0.1038     kG-m   \n",
       "\n",
       "      Bmax Val Bmax Uom  \n",
       "0       4.5017     kG-m  \n",
       "1       4.5227     kG-m  \n",
       "2       4.5155     kG-m  \n",
       "3       4.5398     kG-m  \n",
       "4       4.5095     kG-m  \n",
       "...        ...      ...  \n",
       "1353   11.2600     kG-m  \n",
       "1354    0.1091     kG-m  \n",
       "1355    0.0210     kG-m  \n",
       "1356    0.0210     kG-m  \n",
       "1357    0.1042     kG-m  \n",
       "\n",
       "[1358 rows x 14 columns]"
      ]
     },
     "execution_count": 6,
     "metadata": {},
     "output_type": "execute_result"
    }
   ],
   "source": [
    "t1"
   ]
  },
  {
   "cell_type": "markdown",
   "id": "7f2963b2-176c-4c04-a1b9-642e2b236e29",
   "metadata": {},
   "source": [
    "# Simple Tao command example"
   ]
  },
  {
   "cell_type": "code",
   "execution_count": 7,
   "id": "4f86744f-bb49-4ee2-b044-9eabda409901",
   "metadata": {},
   "outputs": [
    {
     "name": "stdout",
     "output_type": "stream",
     "text": [
      "-------------------------\n",
      "Tao> set var xcor[1]|meas = 0.03;\n",
      "-------------------------\n",
      "Tao> sho var xcor[1:3]\n",
      "  Variable                   Slave Parameters           Meas         Model        Design  Useit_opt\n",
      "  xcor[1]                    XC00[BL_KICK]          3.0000E-02    0.0000E+00    0.0000E+00       F\n",
      "  xcor[2]                    XC01[BL_KICK]          0.0000E+00    0.0000E+00    0.0000E+00       F\n",
      "  xcor[3]                    XC02[BL_KICK]          0.0000E+00    0.0000E+00    0.0000E+00       F\n",
      "  Variable                   Slave Parameters           Meas         Model        Design  Useit_opt\n",
      "-------------------------\n",
      "Tao> \n",
      "-------------------------\n",
      "Tao> SLD  ! this resets the lattice to design!\n",
      "-------------------------\n",
      "Tao> \n"
     ]
    }
   ],
   "source": [
    "%%tao\n",
    "set var xcor[1]|meas = 0.03;\n",
    "sho var xcor[1:3]\n",
    "\n",
    "SLD  ! this resets the lattice to design!"
   ]
  },
  {
   "cell_type": "code",
   "execution_count": 8,
   "id": "e8191a13-b013-4971-ae07-0936e6194c27",
   "metadata": {},
   "outputs": [],
   "source": [
    "hkicker_list = tao.lat_list('HKICKER::*', 'ele.name')"
   ]
  },
  {
   "cell_type": "markdown",
   "id": "e843458d-ce0a-47de-b4cc-ee4e5ef02e44",
   "metadata": {},
   "source": [
    "## For now we reply on pytao having the ORDER of the correctors (in hkicker_list) the same as in the lattice variable (in \"show var xcor\"). A visual check is recommended for other parameters."
   ]
  },
  {
   "cell_type": "code",
   "execution_count": 9,
   "id": "2df697c8-38c7-46b9-bf23-7285e2a606c4",
   "metadata": {},
   "outputs": [
    {
     "data": {
      "text/plain": [
       "['XC00',\n",
       " 'XC01',\n",
       " 'XC02',\n",
       " 'XC03',\n",
       " 'XC04',\n",
       " 'XC05',\n",
       " 'XC06',\n",
       " 'XC07',\n",
       " 'XC08',\n",
       " 'XC09']"
      ]
     },
     "execution_count": 9,
     "metadata": {},
     "output_type": "execute_result"
    }
   ],
   "source": [
    "hkicker_list[0:10]"
   ]
  },
  {
   "cell_type": "markdown",
   "id": "bf2ae274-a0d0-47b4-8154-fc668bef31c1",
   "metadata": {},
   "source": [
    "# Run multiple Tao commands using table from Dorian"
   ]
  },
  {
   "cell_type": "code",
   "execution_count": 10,
   "id": "0b1d538f-508a-408e-bc31-ad91637ca750",
   "metadata": {},
   "outputs": [],
   "source": [
    "def set_HKICKER_limits(t1, output_commands=False):\n",
    "    \n",
    "    out=\"\"\n",
    "    t2 = t1[t1['Device']==\"XCOR\"]            # shrink table\n",
    "    t2.index = pd.RangeIndex(len(t2.index))  # reset index\n",
    "    \n",
    "    hkicker_list = tao.lat_list('HKICKER::*', 'ele.name')  # existing hkickers in Tao lattice\n",
    "    \n",
    "    for i in range(t2.shape[0]):\n",
    "        \n",
    "        ele_name = t2['Element'][i]\n",
    "        if ele_name in hkicker_list:\n",
    "            #print(hkicker_list.index(ele_name))\n",
    "            \n",
    "            ix_tao = hkicker_list.index(ele_name) + 1   #shifts 0 to 1\n",
    "            high_lim = t2['Bmax Val'][i]*0.1  # from kG*m to T*m\n",
    "            low_lim = t2['Bmin Val'][i]*0.1   # from kG*m to T*m\n",
    "            \n",
    "            # Run the Tao commands\n",
    "            # print(\"Seting hkicker with variable index:\", ix_tao)\n",
    "            cmd = f\"set var xcor[{ix_tao}]|high_lim = {high_lim};set var xcor[{ix_tao}]|low_lim = {low_lim};\"\n",
    "            tao.cmd(cmd)\n",
    "            \n",
    "            if output_commands==True:\n",
    "                out += f\"set var xcor[{ix_tao}]|high_lim = {high_lim};set var xcor[{ix_tao}]|low_lim = {low_lim};\"\n",
    "            \n",
    "    \n",
    "    if output_commands==True:\n",
    "        return out\n",
    "    else:\n",
    "        return None"
   ]
  },
  {
   "cell_type": "code",
   "execution_count": 11,
   "id": "bb580f61-42f0-4216-929a-12e586a27657",
   "metadata": {},
   "outputs": [],
   "source": [
    "set_HKICKER_limits(t1)"
   ]
  },
  {
   "cell_type": "markdown",
   "id": "5ef98c2b-8386-4548-ab2a-0a99d9861fa1",
   "metadata": {},
   "source": [
    "#### Check if the limits have been set correctly according to the table"
   ]
  },
  {
   "cell_type": "code",
   "execution_count": 12,
   "id": "9dac7fdf-d350-4d23-9c53-17e1e70a06b1",
   "metadata": {},
   "outputs": [
    {
     "data": {
      "text/html": [
       "<div>\n",
       "<style scoped>\n",
       "    .dataframe tbody tr th:only-of-type {\n",
       "        vertical-align: middle;\n",
       "    }\n",
       "\n",
       "    .dataframe tbody tr th {\n",
       "        vertical-align: top;\n",
       "    }\n",
       "\n",
       "    .dataframe thead th {\n",
       "        text-align: right;\n",
       "    }\n",
       "</style>\n",
       "<table border=\"1\" class=\"dataframe\">\n",
       "  <thead>\n",
       "    <tr style=\"text-align: right;\">\n",
       "      <th></th>\n",
       "      <th>Device</th>\n",
       "      <th>Element</th>\n",
       "      <th>Linac Z (m)*</th>\n",
       "      <th>Control System Name*</th>\n",
       "      <th>PS String</th>\n",
       "      <th>PS Config</th>\n",
       "      <th>Imin Val</th>\n",
       "      <th>Imin Uom</th>\n",
       "      <th>Imax Val</th>\n",
       "      <th>Imax Uom</th>\n",
       "      <th>Bmin Val</th>\n",
       "      <th>Bmin Uom</th>\n",
       "      <th>Bmax Val</th>\n",
       "      <th>Bmax Uom</th>\n",
       "    </tr>\n",
       "  </thead>\n",
       "  <tbody>\n",
       "    <tr>\n",
       "      <th>273</th>\n",
       "      <td>XCOR</td>\n",
       "      <td>XC00</td>\n",
       "      <td>2018.072044</td>\n",
       "      <td>XCOR:IN20:121</td>\n",
       "      <td>NaN</td>\n",
       "      <td>Individual</td>\n",
       "      <td>-4.0</td>\n",
       "      <td>A</td>\n",
       "      <td>4.0</td>\n",
       "      <td>A</td>\n",
       "      <td>-0.0015</td>\n",
       "      <td>kG-m</td>\n",
       "      <td>0.0015</td>\n",
       "      <td>kG-m</td>\n",
       "    </tr>\n",
       "  </tbody>\n",
       "</table>\n",
       "</div>"
      ],
      "text/plain": [
       "    Device Element  Linac Z (m)* Control System Name* PS String   PS Config  \\\n",
       "273   XCOR    XC00   2018.072044        XCOR:IN20:121       NaN  Individual   \n",
       "\n",
       "     Imin Val Imin Uom  Imax Val Imax Uom  Bmin Val Bmin Uom  Bmax Val  \\\n",
       "273      -4.0        A       4.0        A   -0.0015     kG-m    0.0015   \n",
       "\n",
       "    Bmax Uom  \n",
       "273     kG-m  "
      ]
     },
     "execution_count": 12,
     "metadata": {},
     "output_type": "execute_result"
    }
   ],
   "source": [
    "t1[t1['Element']==\"XC00\"]"
   ]
  },
  {
   "cell_type": "code",
   "execution_count": 13,
   "id": "b07a4ca2-3f5c-47fa-a835-b49fa7a68fb1",
   "metadata": {},
   "outputs": [
    {
     "name": "stdout",
     "output_type": "stream",
     "text": [
      "-------------------------\n",
      "Tao> sho var xcor[1]\n",
      "%ele_name         = \"XC00\"\n",
      "%attrib_name      = \"BL_KICK\"\n",
      "%ix_attrib        = 43\n",
      "%ix_var           = 55\n",
      "%ix_dvar          = -1\n",
      "%ix_v1            = 1\n",
      "%model            =   0.00000000E+00\n",
      "%base             =   0.00000000E+00\n",
      "%slave(1)%uni@branch>>ele:        1@0>>10\n",
      "%slave(1)%Model_value:   0.00000000E+00\n",
      "%slave(1)%Base_value:    0.00000000E+00\n",
      "%design           =   0.00000000E+00\n",
      "%old              =   0.00000000E+00\n",
      "%meas             =   3.00000000E-02\n",
      "%ref              =   0.00000000E+00\n",
      "%correction       =   0.00000000E+00\n",
      "%high_lim         =   1.50000000E-04\n",
      "%low_lim          =  -1.50000000E-04\n",
      "%step             =   1.00000000E-02\n",
      "%weight           =   0.00000000E+00\n",
      "%delta_merit      =   0.00000000E+00\n",
      "%merit_type       = \"limit\"\n",
      "%merit            =   0.00000000E+00\n",
      "%dmerit_dvar      =   0.00000000E+00\n",
      "%s                =   1.96010000E-01\n",
      "%ix_key_table     = -1\n",
      "%exists           = T\n",
      "%good_var         = T\n",
      "%good_user        = F\n",
      "%good_opt         = T\n",
      "%useit_opt        = F\n",
      "%useit_plot       = F\n",
      "%key_bound        = F\n",
      "-------------------------\n",
      "Tao> \n"
     ]
    }
   ],
   "source": [
    "%%tao\n",
    "sho var xcor[1]"
   ]
  },
  {
   "cell_type": "markdown",
   "id": "a1d8d9f2-3203-4e86-a6cf-37a3d072ba54",
   "metadata": {},
   "source": [
    "# Below is Scratch"
   ]
  },
  {
   "cell_type": "code",
   "execution_count": 10,
   "id": "05d3959c-06d7-40e8-bc98-286837d36c98",
   "metadata": {},
   "outputs": [
    {
     "data": {
      "text/plain": [
       "'/global/u2/w/wlou1991/beam_loss_Yuantao'"
      ]
     },
     "execution_count": 10,
     "metadata": {},
     "output_type": "execute_result"
    }
   ],
   "source": [
    "os.getcwd()"
   ]
  },
  {
   "cell_type": "code",
   "execution_count": 11,
   "id": "56f28d43-a5c1-48f0-b88d-e4f079a8129e",
   "metadata": {},
   "outputs": [],
   "source": [
    "OPTIONS = f'-noplot'\n",
    "INIT = f'-init {os.getcwd()}/tao.init {OPTIONS}'"
   ]
  },
  {
   "cell_type": "code",
   "execution_count": 12,
   "id": "0bf3e81d-7226-457a-949f-63a1825ad365",
   "metadata": {},
   "outputs": [
    {
     "data": {
      "text/plain": [
       "'-init /global/u2/w/wlou1991/beam_loss_Yuantao/tao.init -noplot'"
      ]
     },
     "execution_count": 12,
     "metadata": {},
     "output_type": "execute_result"
    }
   ],
   "source": [
    "INIT"
   ]
  },
  {
   "cell_type": "code",
   "execution_count": 13,
   "id": "10ec48dc-1035-4cba-9486-c526754467b8",
   "metadata": {},
   "outputs": [],
   "source": [
    "tao = Tao(INIT)"
   ]
  },
  {
   "cell_type": "code",
   "execution_count": 17,
   "id": "a6a7e2d9-71fc-45e2-a0b2-728c1e9344ba",
   "metadata": {},
   "outputs": [
    {
     "name": "stdout",
     "output_type": "stream",
     "text": [
      "-------------------------\n",
      "Tao> sho var correctors.x\n",
      "  Variable                   Slave Parameters           Meas         Model        Design  Useit_opt\n",
      "  correctors.x[1]            XCBSYQ5[BL_KICK]       0.0000E+00   -0.0000E+00   -0.0000E+00       F\n",
      "  correctors.x[2]            XCA0[BL_KICK]          0.0000E+00   -0.0000E+00   -0.0000E+00       F\n",
      "  correctors.x[3]            XCVM2[BL_KICK]         0.0000E+00   -0.0000E+00   -0.0000E+00       F\n",
      "  correctors.x[4]            XCVB2[BL_KICK]         0.0000E+00   -0.0000E+00   -0.0000E+00       F\n",
      "  correctors.x[5]            XCVM3[BL_KICK]         0.0000E+00   -0.0000E+00   -0.0000E+00       F\n",
      "  Variable                   Slave Parameters           Meas         Model        Design  Useit_opt\n",
      "-------------------------\n",
      "Tao> \n"
     ]
    }
   ],
   "source": [
    "%%tao\n",
    "sho var correctors.x"
   ]
  },
  {
   "cell_type": "code",
   "execution_count": null,
   "id": "2c9bcce1-5f0e-4632-8f04-c45c0978760c",
   "metadata": {},
   "outputs": [],
   "source": []
  }
 ],
 "metadata": {
  "kernelspec": {
   "display_name": "Lcls-live",
   "language": "python",
   "name": "lcls-live"
  },
  "language_info": {
   "codemirror_mode": {
    "name": "ipython",
    "version": 3
   },
   "file_extension": ".py",
   "mimetype": "text/x-python",
   "name": "python",
   "nbconvert_exporter": "python",
   "pygments_lexer": "ipython3",
   "version": "3.8.12"
  }
 },
 "nbformat": 4,
 "nbformat_minor": 5
}
